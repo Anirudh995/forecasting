{
  "nbformat": 4,
  "nbformat_minor": 0,
  "metadata": {
    "colab": {
      "provenance": [],
      "authorship_tag": "ABX9TyOrs32Cyu2gsNLHpMKPln3Q",
      "include_colab_link": true
    },
    "kernelspec": {
      "name": "python3",
      "display_name": "Python 3"
    },
    "language_info": {
      "name": "python"
    }
  },
  "cells": [
    {
      "cell_type": "markdown",
      "metadata": {
        "id": "view-in-github",
        "colab_type": "text"
      },
      "source": [
        "<a href=\"https://colab.research.google.com/github/Anirudh995/forecasting/blob/main/pymoo.ipynb\" target=\"_parent\"><img src=\"https://colab.research.google.com/assets/colab-badge.svg\" alt=\"Open In Colab\"/></a>"
      ]
    },
    {
      "cell_type": "code",
      "execution_count": 1,
      "metadata": {
        "id": "-45lV2SrMkCA"
      },
      "outputs": [],
      "source": [
        "import numpy as np"
      ]
    },
    {
      "cell_type": "code",
      "source": [
        "!pip install pymoo"
      ],
      "metadata": {
        "colab": {
          "base_uri": "https://localhost:8080/"
        },
        "id": "RXlvwlIUMzTY",
        "outputId": "94a4d9a0-6cd0-4d57-abc0-83a506428b0f"
      },
      "execution_count": 2,
      "outputs": [
        {
          "output_type": "stream",
          "name": "stdout",
          "text": [
            "Collecting pymoo\n",
            "  Downloading pymoo-0.6.0.1-cp310-cp310-manylinux_2_5_x86_64.manylinux1_x86_64.manylinux_2_12_x86_64.manylinux2010_x86_64.whl (2.5 MB)\n",
            "\u001b[?25l     \u001b[90m━━━━━━━━━━━━━━━━━━━━━━━━━━━━━━━━━━━━━━━━\u001b[0m \u001b[32m0.0/2.5 MB\u001b[0m \u001b[31m?\u001b[0m eta \u001b[36m-:--:--\u001b[0m\r\u001b[2K     \u001b[91m━\u001b[0m\u001b[91m╸\u001b[0m\u001b[90m━━━━━━━━━━━━━━━━━━━━━━━━━━━━━━━━━━━━━━\u001b[0m \u001b[32m0.1/2.5 MB\u001b[0m \u001b[31m3.4 MB/s\u001b[0m eta \u001b[36m0:00:01\u001b[0m\r\u001b[2K     \u001b[91m━━━━━━━━━━━━━━━━━━━━━━━━━━━━━━━━━━━\u001b[0m\u001b[90m╺\u001b[0m\u001b[90m━━━━\u001b[0m \u001b[32m2.2/2.5 MB\u001b[0m \u001b[31m31.7 MB/s\u001b[0m eta \u001b[36m0:00:01\u001b[0m\r\u001b[2K     \u001b[90m━━━━━━━━━━━━━━━━━━━━━━━━━━━━━━━━━━━━━━━━\u001b[0m \u001b[32m2.5/2.5 MB\u001b[0m \u001b[31m27.7 MB/s\u001b[0m eta \u001b[36m0:00:00\u001b[0m\n",
            "\u001b[?25hRequirement already satisfied: numpy>=1.15 in /usr/local/lib/python3.10/dist-packages (from pymoo) (1.23.5)\n",
            "Requirement already satisfied: scipy>=1.1 in /usr/local/lib/python3.10/dist-packages (from pymoo) (1.11.3)\n",
            "Requirement already satisfied: matplotlib>=3 in /usr/local/lib/python3.10/dist-packages (from pymoo) (3.7.1)\n",
            "Requirement already satisfied: autograd>=1.4 in /usr/local/lib/python3.10/dist-packages (from pymoo) (1.6.2)\n",
            "Collecting cma==3.2.2 (from pymoo)\n",
            "  Downloading cma-3.2.2-py2.py3-none-any.whl (249 kB)\n",
            "\u001b[2K     \u001b[90m━━━━━━━━━━━━━━━━━━━━━━━━━━━━━━━━━━━━━━━━\u001b[0m \u001b[32m249.1/249.1 kB\u001b[0m \u001b[31m26.5 MB/s\u001b[0m eta \u001b[36m0:00:00\u001b[0m\n",
            "\u001b[?25hCollecting alive-progress (from pymoo)\n",
            "  Downloading alive_progress-3.1.4-py3-none-any.whl (75 kB)\n",
            "\u001b[2K     \u001b[90m━━━━━━━━━━━━━━━━━━━━━━━━━━━━━━━━━━━━━━━━\u001b[0m \u001b[32m75.9/75.9 kB\u001b[0m \u001b[31m10.7 MB/s\u001b[0m eta \u001b[36m0:00:00\u001b[0m\n",
            "\u001b[?25hCollecting dill (from pymoo)\n",
            "  Downloading dill-0.3.7-py3-none-any.whl (115 kB)\n",
            "\u001b[2K     \u001b[90m━━━━━━━━━━━━━━━━━━━━━━━━━━━━━━━━━━━━━━━━\u001b[0m \u001b[32m115.3/115.3 kB\u001b[0m \u001b[31m18.2 MB/s\u001b[0m eta \u001b[36m0:00:00\u001b[0m\n",
            "\u001b[?25hCollecting Deprecated (from pymoo)\n",
            "  Downloading Deprecated-1.2.14-py2.py3-none-any.whl (9.6 kB)\n",
            "Requirement already satisfied: future>=0.15.2 in /usr/local/lib/python3.10/dist-packages (from autograd>=1.4->pymoo) (0.18.3)\n",
            "Requirement already satisfied: contourpy>=1.0.1 in /usr/local/lib/python3.10/dist-packages (from matplotlib>=3->pymoo) (1.1.1)\n",
            "Requirement already satisfied: cycler>=0.10 in /usr/local/lib/python3.10/dist-packages (from matplotlib>=3->pymoo) (0.12.1)\n",
            "Requirement already satisfied: fonttools>=4.22.0 in /usr/local/lib/python3.10/dist-packages (from matplotlib>=3->pymoo) (4.43.1)\n",
            "Requirement already satisfied: kiwisolver>=1.0.1 in /usr/local/lib/python3.10/dist-packages (from matplotlib>=3->pymoo) (1.4.5)\n",
            "Requirement already satisfied: packaging>=20.0 in /usr/local/lib/python3.10/dist-packages (from matplotlib>=3->pymoo) (23.2)\n",
            "Requirement already satisfied: pillow>=6.2.0 in /usr/local/lib/python3.10/dist-packages (from matplotlib>=3->pymoo) (9.4.0)\n",
            "Requirement already satisfied: pyparsing>=2.3.1 in /usr/local/lib/python3.10/dist-packages (from matplotlib>=3->pymoo) (3.1.1)\n",
            "Requirement already satisfied: python-dateutil>=2.7 in /usr/local/lib/python3.10/dist-packages (from matplotlib>=3->pymoo) (2.8.2)\n",
            "Collecting about-time==4.2.1 (from alive-progress->pymoo)\n",
            "  Downloading about_time-4.2.1-py3-none-any.whl (13 kB)\n",
            "Collecting grapheme==0.6.0 (from alive-progress->pymoo)\n",
            "  Downloading grapheme-0.6.0.tar.gz (207 kB)\n",
            "\u001b[2K     \u001b[90m━━━━━━━━━━━━━━━━━━━━━━━━━━━━━━━━━━━━━━━━\u001b[0m \u001b[32m207.3/207.3 kB\u001b[0m \u001b[31m27.0 MB/s\u001b[0m eta \u001b[36m0:00:00\u001b[0m\n",
            "\u001b[?25h  Preparing metadata (setup.py) ... \u001b[?25l\u001b[?25hdone\n",
            "Requirement already satisfied: wrapt<2,>=1.10 in /usr/local/lib/python3.10/dist-packages (from Deprecated->pymoo) (1.14.1)\n",
            "Requirement already satisfied: six>=1.5 in /usr/local/lib/python3.10/dist-packages (from python-dateutil>=2.7->matplotlib>=3->pymoo) (1.16.0)\n",
            "Building wheels for collected packages: grapheme\n",
            "  Building wheel for grapheme (setup.py) ... \u001b[?25l\u001b[?25hdone\n",
            "  Created wheel for grapheme: filename=grapheme-0.6.0-py3-none-any.whl size=210079 sha256=ec44b8f050cbebc36644e1ca5c47f784fc1cdf781ea5bbd82b1fcfc5f3083b11\n",
            "  Stored in directory: /root/.cache/pip/wheels/01/e1/49/37e6bde9886439057450c494a79b0bef8bbe897a54aebfc757\n",
            "Successfully built grapheme\n",
            "Installing collected packages: grapheme, dill, Deprecated, cma, about-time, alive-progress, pymoo\n",
            "Successfully installed Deprecated-1.2.14 about-time-4.2.1 alive-progress-3.1.4 cma-3.2.2 dill-0.3.7 grapheme-0.6.0 pymoo-0.6.0.1\n"
          ]
        }
      ]
    },
    {
      "cell_type": "code",
      "source": [
        "from pymoo.core.problem import ElementwiseProblem"
      ],
      "metadata": {
        "id": "es17CqTAJXKm"
      },
      "execution_count": 3,
      "outputs": []
    },
    {
      "cell_type": "markdown",
      "source": [
        "**initializing algo**"
      ],
      "metadata": {
        "id": "Fbs5ZyKdZnvG"
      }
    },
    {
      "cell_type": "code",
      "source": [
        "class Prob(ElementwiseProblem):\n",
        "  def __init__(self):\n",
        "    super().__init__(n_var = 3,\n",
        "                     n_obj = 2,\n",
        "                     n_ieq_constr = 2,\n",
        "                     xl = np.array([-10,-10,-10]),\n",
        "                     xu = np.array([10,10,10]))\n",
        "    def _evaluate(self,x,out,*args,**kwargs):\n",
        "      f1 = (x[0]**2+x[1]**2+x[2]**2)\n",
        "      f2 = (x[0]-1)**2 + (x[1]-1)**2  + (x[2]-1)**2\n",
        "\n",
        "      g1 = x[0] + x[1] - x[2] - 1\n",
        "      g2 = -3*x[0] + x[1] +x[2] - 4\n",
        "\n",
        "      out[\"F\"] = [f1,f2]\n",
        "      out[\"G\"] = [g1,g2]\n",
        "\n",
        "problem = Prob()"
      ],
      "metadata": {
        "id": "Uikshx9qLS9O"
      },
      "execution_count": 19,
      "outputs": []
    },
    {
      "cell_type": "code",
      "source": [
        "from pymoo.algorithms.moo.nsga2 import NSGA2 #multi\n",
        "from pymoo.operators.sampling.rnd import FloatRandomSampling\n",
        "from pymoo.operators.crossover.sbx import SBX\n",
        "from pymoo.operators.mutation.pm import PM"
      ],
      "metadata": {
        "id": "QzcitQd0LVYt"
      },
      "execution_count": 20,
      "outputs": []
    },
    {
      "cell_type": "code",
      "source": [
        "algorithm = NSGA2(\n",
        "    pop_size = 50,\n",
        "    n_offsprings = 10,\n",
        "    sampling = FloatRandomSampling(),\n",
        "    crossover = SBX(prob = 0.9, eta = 20),\n",
        "    mutation = PM(eta = 25),\n",
        "    eliminate_duplicates = True\n",
        ")\n"
      ],
      "metadata": {
        "id": "9t2B_8lFWlBB"
      },
      "execution_count": 21,
      "outputs": []
    },
    {
      "cell_type": "code",
      "source": [
        "from pymoo.termination import get_termination\n",
        "termination = get_termination(\"n_gen\",100) #stops after 100 th generation\n"
      ],
      "metadata": {
        "id": "esiSUUoDZDfK"
      },
      "execution_count": 22,
      "outputs": []
    },
    {
      "cell_type": "markdown",
      "source": [
        "**Optimizing**"
      ],
      "metadata": {
        "id": "RlKyo3JjZt7K"
      }
    },
    {
      "cell_type": "code",
      "source": [
        "from pymoo.optimize import minimize\n",
        "res = minimize(problem,\n",
        "               algorithm,\n",
        "               termination,\n",
        "               seed = 7,\n",
        "               save_history = True,\n",
        "               verbose = True)"
      ],
      "metadata": {
        "colab": {
          "base_uri": "https://localhost:8080/"
        },
        "id": "n1kMK475ZxQR",
        "outputId": "83402d7e-932f-428c-9b9b-45e79891be36"
      },
      "execution_count": 23,
      "outputs": [
        {
          "output_type": "stream",
          "name": "stdout",
          "text": [
            "==========================================================================================\n",
            "n_gen  |  n_eval  | n_nds  |     cv_min    |     cv_avg    |      eps      |   indicator  \n",
            "==========================================================================================\n",
            "     1 |       50 |      1 |           INF |           INF |             - |             -\n",
            "     2 |       60 |      1 |           INF |           INF |             - |             -\n",
            "     3 |       70 |      1 |           INF |           INF |             - |             -\n",
            "     4 |       80 |      1 |           INF |           INF |             - |             -\n",
            "     5 |       90 |      1 |           INF |           INF |             - |             -\n",
            "     6 |      100 |      1 |           INF |           INF |             - |             -\n",
            "     7 |      110 |      1 |           INF |           INF |             - |             -\n",
            "     8 |      120 |      1 |           INF |           INF |             - |             -\n",
            "     9 |      130 |      1 |           INF |           INF |             - |             -\n",
            "    10 |      140 |      1 |           INF |           INF |             - |             -\n",
            "    11 |      150 |      1 |           INF |           INF |             - |             -\n",
            "    12 |      160 |      1 |           INF |           INF |             - |             -\n",
            "    13 |      170 |      1 |           INF |           INF |             - |             -\n",
            "    14 |      180 |      1 |           INF |           INF |             - |             -\n",
            "    15 |      190 |      1 |           INF |           INF |             - |             -\n",
            "    16 |      200 |      1 |           INF |           INF |             - |             -\n",
            "    17 |      210 |      1 |           INF |           INF |             - |             -\n",
            "    18 |      220 |      1 |           INF |           INF |             - |             -\n",
            "    19 |      230 |      1 |           INF |           INF |             - |             -\n",
            "    20 |      240 |      1 |           INF |           INF |             - |             -\n",
            "    21 |      250 |      1 |           INF |           INF |             - |             -\n",
            "    22 |      260 |      1 |           INF |           INF |             - |             -\n",
            "    23 |      270 |      1 |           INF |           INF |             - |             -\n",
            "    24 |      280 |      1 |           INF |           INF |             - |             -\n",
            "    25 |      290 |      1 |           INF |           INF |             - |             -\n",
            "    26 |      300 |      1 |           INF |           INF |             - |             -\n",
            "    27 |      310 |      1 |           INF |           INF |             - |             -\n",
            "    28 |      320 |      1 |           INF |           INF |             - |             -\n",
            "    29 |      330 |      1 |           INF |           INF |             - |             -\n",
            "    30 |      340 |      1 |           INF |           INF |             - |             -\n",
            "    31 |      350 |      1 |           INF |           INF |             - |             -\n",
            "    32 |      360 |      1 |           INF |           INF |             - |             -\n",
            "    33 |      370 |      1 |           INF |           INF |             - |             -\n",
            "    34 |      380 |      1 |           INF |           INF |             - |             -\n",
            "    35 |      390 |      1 |           INF |           INF |             - |             -\n",
            "    36 |      400 |      1 |           INF |           INF |             - |             -\n",
            "    37 |      410 |      1 |           INF |           INF |             - |             -\n",
            "    38 |      420 |      1 |           INF |           INF |             - |             -\n",
            "    39 |      430 |      1 |           INF |           INF |             - |             -\n",
            "    40 |      440 |      1 |           INF |           INF |             - |             -\n",
            "    41 |      450 |      1 |           INF |           INF |             - |             -\n",
            "    42 |      460 |      1 |           INF |           INF |             - |             -\n",
            "    43 |      470 |      1 |           INF |           INF |             - |             -\n",
            "    44 |      480 |      1 |           INF |           INF |             - |             -\n",
            "    45 |      490 |      1 |           INF |           INF |             - |             -\n",
            "    46 |      500 |      1 |           INF |           INF |             - |             -\n",
            "    47 |      510 |      1 |           INF |           INF |             - |             -\n",
            "    48 |      520 |      1 |           INF |           INF |             - |             -\n",
            "    49 |      530 |      1 |           INF |           INF |             - |             -\n",
            "    50 |      540 |      1 |           INF |           INF |             - |             -\n",
            "    51 |      550 |      1 |           INF |           INF |             - |             -\n",
            "    52 |      560 |      1 |           INF |           INF |             - |             -\n",
            "    53 |      570 |      1 |           INF |           INF |             - |             -\n",
            "    54 |      580 |      1 |           INF |           INF |             - |             -\n",
            "    55 |      590 |      1 |           INF |           INF |             - |             -\n",
            "    56 |      600 |      1 |           INF |           INF |             - |             -\n",
            "    57 |      610 |      1 |           INF |           INF |             - |             -\n",
            "    58 |      620 |      1 |           INF |           INF |             - |             -\n",
            "    59 |      630 |      1 |           INF |           INF |             - |             -\n",
            "    60 |      640 |      1 |           INF |           INF |             - |             -\n",
            "    61 |      650 |      1 |           INF |           INF |             - |             -\n",
            "    62 |      660 |      1 |           INF |           INF |             - |             -\n",
            "    63 |      670 |      1 |           INF |           INF |             - |             -\n",
            "    64 |      680 |      1 |           INF |           INF |             - |             -\n",
            "    65 |      690 |      1 |           INF |           INF |             - |             -\n",
            "    66 |      700 |      1 |           INF |           INF |             - |             -\n",
            "    67 |      710 |      1 |           INF |           INF |             - |             -\n",
            "    68 |      720 |      1 |           INF |           INF |             - |             -\n",
            "    69 |      730 |      1 |           INF |           INF |             - |             -\n",
            "    70 |      740 |      1 |           INF |           INF |             - |             -\n",
            "    71 |      750 |      1 |           INF |           INF |             - |             -\n",
            "    72 |      760 |      1 |           INF |           INF |             - |             -\n",
            "    73 |      770 |      1 |           INF |           INF |             - |             -\n",
            "    74 |      780 |      1 |           INF |           INF |             - |             -\n",
            "    75 |      790 |      1 |           INF |           INF |             - |             -\n",
            "    76 |      800 |      1 |           INF |           INF |             - |             -\n",
            "    77 |      810 |      1 |           INF |           INF |             - |             -\n",
            "    78 |      820 |      1 |           INF |           INF |             - |             -\n",
            "    79 |      830 |      1 |           INF |           INF |             - |             -\n",
            "    80 |      840 |      1 |           INF |           INF |             - |             -\n",
            "    81 |      850 |      1 |           INF |           INF |             - |             -\n",
            "    82 |      860 |      1 |           INF |           INF |             - |             -\n",
            "    83 |      870 |      1 |           INF |           INF |             - |             -\n",
            "    84 |      880 |      1 |           INF |           INF |             - |             -\n",
            "    85 |      890 |      1 |           INF |           INF |             - |             -\n",
            "    86 |      900 |      1 |           INF |           INF |             - |             -\n",
            "    87 |      910 |      1 |           INF |           INF |             - |             -\n",
            "    88 |      920 |      1 |           INF |           INF |             - |             -\n",
            "    89 |      930 |      1 |           INF |           INF |             - |             -\n",
            "    90 |      940 |      1 |           INF |           INF |             - |             -\n",
            "    91 |      950 |      1 |           INF |           INF |             - |             -\n",
            "    92 |      960 |      1 |           INF |           INF |             - |             -\n",
            "    93 |      970 |      1 |           INF |           INF |             - |             -\n",
            "    94 |      980 |      1 |           INF |           INF |             - |             -\n",
            "    95 |      990 |      1 |           INF |           INF |             - |             -\n",
            "    96 |     1000 |      1 |           INF |           INF |             - |             -\n",
            "    97 |     1010 |      1 |           INF |           INF |             - |             -\n",
            "    98 |     1020 |      1 |           INF |           INF |             - |             -\n",
            "    99 |     1030 |      1 |           INF |           INF |             - |             -\n",
            "   100 |     1040 |      1 |           INF |           INF |             - |             -\n"
          ]
        }
      ]
    }
  ]
}